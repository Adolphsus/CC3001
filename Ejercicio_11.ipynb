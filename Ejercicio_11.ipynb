{
  "nbformat": 4,
  "nbformat_minor": 0,
  "metadata": {
    "colab": {
      "provenance": [],
      "authorship_tag": "ABX9TyM0PAFbTYEZEYlfIqbumBcF",
      "include_colab_link": true
    },
    "kernelspec": {
      "name": "python3",
      "display_name": "Python 3"
    },
    "language_info": {
      "name": "python"
    }
  },
  "cells": [
    {
      "cell_type": "markdown",
      "metadata": {
        "id": "view-in-github",
        "colab_type": "text"
      },
      "source": [
        "<a href=\"https://colab.research.google.com/github/Adolphsus/CC3001/blob/main/Ejercicio_11.ipynb\" target=\"_parent\"><img src=\"https://colab.research.google.com/assets/colab-badge.svg\" alt=\"Open In Colab\"/></a>"
      ]
    },
    {
      "cell_type": "markdown",
      "metadata": {
        "id": "WwgOL2wJPzRu"
      },
      "source": [
        "### Ejercicio 11 (Radix Sort)\n",
        "#### Adolfo Arenas P.\n",
        "\n",
        "Ordene el conjunto\n",
        "\n",
        "```\n",
        "    73895\n",
        "    93754\n",
        "    82149\n",
        "    99046\n",
        "    14853\n",
        "    94171\n",
        "    54963\n",
        "    70471\n",
        "    80564\n",
        "    66496\n",
        "```\n",
        "\n",
        "usando Radix Sort. Muestre el estado del conjunto después cada pasada (una pasada consiste en la separación en grupos de acuerdo a los dígitos presentes en la columna que se está procesando, seguida de la concatenación de los grupos resultantes). Recuerde que las columnas se procesan de derecha a izquierda y que a igualdad de valores, se debe preservar el orden original.\n",
        "\n",
        "Para entregar su solución y verificar que esté correcta, sustituya los ceros por la información correcta en el siguiente código. Para ayudarle a empezar, se entrega el resultado después de la primera pasada."
      ]
    },
    {
      "cell_type": "code",
      "source": [
        "import numpy as np\n",
        "\n",
        "# Verifica que la lista 'a' esté ordenada después de haber efectuado 'k' pasadas\n",
        "# Se muestran solo los k dígitos de más a la derecha de cada número\n",
        "def verifica_orden(k,a):\n",
        "  b=[x%(10**k) for x in a]\n",
        "  print(b)\n",
        "  print(\"Ordenado\" if np.all([b[i]<=b[i+1] for i in range(0,len(b) - 1)]) else \"Desordenado\")"
      ],
      "metadata": {
        "id": "Fm8nnPikHMBE"
      },
      "execution_count": null,
      "outputs": []
    },
    {
      "cell_type": "code",
      "source": [
        "verifica_orden(1,[94171,70471,14853,54963,93754,80564,73895,99046,66496,82149])"
      ],
      "metadata": {
        "colab": {
          "base_uri": "https://localhost:8080/"
        },
        "id": "NRdJN-0qLx18",
        "outputId": "84273ef0-26dc-4690-b9a9-f3b33c393109"
      },
      "execution_count": null,
      "outputs": [
        {
          "output_type": "stream",
          "name": "stdout",
          "text": [
            "[1, 1, 3, 3, 4, 4, 5, 6, 6, 9]\n",
            "Ordenado\n"
          ]
        }
      ]
    },
    {
      "cell_type": "code",
      "source": [
        "verifica_orden(2,[99046,82149,14853,93754,54963,80564,94171,70471,73895,66496])"
      ],
      "metadata": {
        "colab": {
          "base_uri": "https://localhost:8080/"
        },
        "id": "dm1A7IZJL-1y",
        "outputId": "38a1e6f8-9574-48a6-ee2b-2cdb4a7b5e09"
      },
      "execution_count": null,
      "outputs": [
        {
          "output_type": "stream",
          "name": "stdout",
          "text": [
            "[46, 49, 53, 54, 63, 64, 71, 71, 95, 96]\n",
            "Ordenado\n"
          ]
        }
      ]
    },
    {
      "cell_type": "code",
      "source": [
        "verifica_orden(3,[99046,82149,94171,70471,66496,80564,93754,14853,73895,54963])"
      ],
      "metadata": {
        "colab": {
          "base_uri": "https://localhost:8080/"
        },
        "id": "i4dyJR7VNP8u",
        "outputId": "b200157d-f36e-4dbc-8ef5-11c681532eef"
      },
      "execution_count": null,
      "outputs": [
        {
          "output_type": "stream",
          "name": "stdout",
          "text": [
            "[46, 149, 171, 471, 496, 564, 754, 853, 895, 963]\n",
            "Ordenado\n"
          ]
        }
      ]
    },
    {
      "cell_type": "code",
      "source": [
        "verifica_orden(4,[70471,80564,82149,93754,73895,94171,14853,54963,66496,99046])"
      ],
      "metadata": {
        "colab": {
          "base_uri": "https://localhost:8080/"
        },
        "id": "ceW8d6NePfqO",
        "outputId": "0a5d6c35-2325-4de2-8e0b-5ff2f0f04f1e"
      },
      "execution_count": null,
      "outputs": [
        {
          "output_type": "stream",
          "name": "stdout",
          "text": [
            "[471, 564, 2149, 3754, 3895, 4171, 4853, 4963, 6496, 9046]\n",
            "Ordenado\n"
          ]
        }
      ]
    },
    {
      "cell_type": "code",
      "source": [
        "verifica_orden(5,[14853,54963,66496,70471,73895,80564,82149,93754,94171,99046])"
      ],
      "metadata": {
        "colab": {
          "base_uri": "https://localhost:8080/"
        },
        "id": "BAh-gTd5PoFT",
        "outputId": "677538a7-e999-4ed8-90d9-eeb166ddb11f"
      },
      "execution_count": null,
      "outputs": [
        {
          "output_type": "stream",
          "name": "stdout",
          "text": [
            "[14853, 54963, 66496, 70471, 73895, 80564, 82149, 93754, 94171, 99046]\n",
            "Ordenado\n"
          ]
        }
      ]
    },
    {
      "cell_type": "markdown",
      "metadata": {
        "id": "nJaIDfJWXcS6"
      },
      "source": [
        "---"
      ]
    },
    {
      "cell_type": "markdown",
      "source": [
        "### Comentario del ejercicio\n",
        "\n",
        "El ejercicio consiste en ordernar crecientemente los valores fijándose primero en la unidad y a partir de esto generar una lista con un determinado orden. Luego, tomando la lista que habíamos obtenido de la unidad, se repite el mismo proceso con la decenas y así sucesivamente hasta llegar al dígito de más a la izquierda en donde se resuelve el orden final. Un ejemplo pequeño de lo anterior sería para la lista [128, 675, 543]: En la primera pasada, fijándonos en las unidades queda [3, 5, 8], luego con las decenas queda [28, 43, 75] y finalmente con las centenas nos devuelve la lista ordenada: [128, 543, 674]."
      ],
      "metadata": {
        "id": "vVwB-REFINHb"
      }
    }
  ]
}