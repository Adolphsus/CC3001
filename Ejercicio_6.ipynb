{
  "nbformat": 4,
  "nbformat_minor": 0,
  "metadata": {
    "colab": {
      "provenance": [],
      "include_colab_link": true
    },
    "kernelspec": {
      "name": "python3",
      "display_name": "Python 3"
    },
    "language_info": {
      "name": "python"
    }
  },
  "cells": [
    {
      "cell_type": "markdown",
      "metadata": {
        "id": "view-in-github",
        "colab_type": "text"
      },
      "source": [
        "<a href=\"https://colab.research.google.com/github/Adolphsus/CC3001/blob/main/Ejercicio_6.ipynb\" target=\"_parent\"><img src=\"https://colab.research.google.com/assets/colab-badge.svg\" alt=\"Open In Colab\"/></a>"
      ]
    },
    {
      "cell_type": "code",
      "source": [
        "!pip install aed-utilities"
      ],
      "metadata": {
        "colab": {
          "base_uri": "https://localhost:8080/"
        },
        "id": "9w5jJ-a7jMwn",
        "outputId": "8257c7ae-3470-414e-fa45-23c2c0da7098"
      },
      "execution_count": null,
      "outputs": [
        {
          "output_type": "stream",
          "name": "stdout",
          "text": [
            "Looking in indexes: https://pypi.org/simple, https://us-python.pkg.dev/colab-wheels/public/simple/\n",
            "Collecting aed-utilities\n",
            "  Downloading aed_utilities-0.5.6.tar.gz (4.3 kB)\n",
            "  Preparing metadata (setup.py) ... \u001b[?25l\u001b[?25hdone\n",
            "Collecting validators (from aed-utilities)\n",
            "  Downloading validators-0.20.0.tar.gz (30 kB)\n",
            "  Preparing metadata (setup.py) ... \u001b[?25l\u001b[?25hdone\n",
            "Requirement already satisfied: beautifulsoup4 in /usr/local/lib/python3.10/dist-packages (from aed-utilities) (4.11.2)\n",
            "Requirement already satisfied: soupsieve>1.2 in /usr/local/lib/python3.10/dist-packages (from beautifulsoup4->aed-utilities) (2.4.1)\n",
            "Requirement already satisfied: decorator>=3.4.0 in /usr/local/lib/python3.10/dist-packages (from validators->aed-utilities) (4.4.2)\n",
            "Building wheels for collected packages: aed-utilities, validators\n",
            "  Building wheel for aed-utilities (setup.py) ... \u001b[?25l\u001b[?25hdone\n",
            "  Created wheel for aed-utilities: filename=aed_utilities-0.5.6-py3-none-any.whl size=4542 sha256=8c8e773155460d576e1bc72de824f4a30f4e26f5925ae85f9b31f15b3f9d0949\n",
            "  Stored in directory: /root/.cache/pip/wheels/db/6d/39/cc766f956b1e504722228ad30c8154cd48f4470e7e24dcfd0e\n",
            "  Building wheel for validators (setup.py) ... \u001b[?25l\u001b[?25hdone\n",
            "  Created wheel for validators: filename=validators-0.20.0-py3-none-any.whl size=19579 sha256=96891b6010c5b5c454727012e5ce7ef0dca28c34a24d54ad2f813317d9a5130b\n",
            "  Stored in directory: /root/.cache/pip/wheels/f2/ed/dd/d3a556ad245ef9dc570c6bcd2f22886d17b0b408dd3bbb9ac3\n",
            "Successfully built aed-utilities validators\n",
            "Installing collected packages: validators, aed-utilities\n",
            "Successfully installed aed-utilities-0.5.6 validators-0.20.0\n"
          ]
        }
      ]
    },
    {
      "cell_type": "markdown",
      "metadata": {
        "id": "G2hcSVqfe0IQ"
      },
      "source": [
        "### Ejercicio 6 - Adolfo Arenas P.\n",
        "\n",
        "Suponga que los campos ``info`` de los nodos externos de un árbol contienen solo números y escriba una función que pueda invocarse como ``formula.evaluar()``, que al ser ejecutada entregue el valor numérico  de la fórmula representada por el árbol. Modifique a continuación la definición de las clases ``Arbol``, ``Nodoi`` y ``Nodoe`` para que incluyan la nueva función ``evaluar()``. Note que tiene que implementar la función ``evaluar()`` en las tres clases."
      ]
    },
    {
      "cell_type": "code",
      "execution_count": null,
      "metadata": {
        "id": "xRALCH9Ve0IQ"
      },
      "outputs": [],
      "source": [
        "import aed_utilities as aed\n",
        "\n",
        "class Nodoi:\n",
        "    def __init__(self, izq, info, der):\n",
        "        self.izq=izq\n",
        "        self.info=info\n",
        "        self.der=der\n",
        "\n",
        "    def evaluar(self):\n",
        "      if self.izq.info == None and self.der.info == None: #si para un nodo interno se cumple que ambos hijos son None\n",
        "        return int(self.info.info)                        #entonces retornamos el int de dicho nodo, pues es en realidad\n",
        "      var1 = self.izq.evaluar()                           #un nodo externo.\n",
        "      var2 = self.der.evaluar()\n",
        "      if self.info == \"+\":                                #ahora segun el operando, se suman, restan, elevan, multiplican\n",
        "        return var1 + var2                                #o dividen las variables (info de los hijos del nodo).\n",
        "      elif self.info == \"-\":\n",
        "        return var1 - var2\n",
        "      elif self.info == \"^\":\n",
        "        return var1 ** var2\n",
        "      elif self.info == \"*\":\n",
        "        return var1 * var2\n",
        "      elif self.info == \"/\":                              ####notese que la \"calculadora\" es solo de enteros####\n",
        "        return var1 // var2\n",
        "      return self.info.info\n",
        "\n",
        "class Nodoe:\n",
        "    def __init__(self, info=\"\"):\n",
        "        self.info=info\n",
        "    def evaluar(self):\n",
        "        ops = \"+-^*/\"                #la idea aqui es verificar si la info del nodo es o no un operador, de no serlo retorno la info\n",
        "        if self.info != ops:         #que contiene el nodo\n",
        "          return self.info\n",
        "\n",
        "class Arbol:\n",
        "    def __init__(self,raiz=Nodoe()):\n",
        "        self.raiz=raiz\n",
        "    def dibujar(self):\n",
        "      btd = aed.BinaryTreeDrawer(fieldData=\"info\", fieldLeft=\"izq\", fieldRight=\"der\", classNone=Nodoe)\n",
        "      btd.draw_tree(self, \"raiz\")   #puse esta funcion del apunte para facilitar el calculo\n",
        "    def evaluar(self):\n",
        "        print(\"Resultado:\", end=\" \") #mostramos el resultado\n",
        "        return self.raiz.evaluar()   #devolvemos el resultado del calculo del arbol"
      ]
    },
    {
      "cell_type": "markdown",
      "metadata": {
        "id": "17Dch0vIe0IQ"
      },
      "source": [
        "Pruébela a continuación:"
      ]
    },
    {
      "cell_type": "code",
      "execution_count": null,
      "metadata": {
        "id": "MXgq6XXke0IR",
        "colab": {
          "base_uri": "https://localhost:8080/",
          "height": 271
        },
        "outputId": "f1dc510b-4bc4-4ef2-c22b-3c0a83c67f8b"
      },
      "outputs": [
        {
          "output_type": "display_data",
          "data": {
            "text/plain": [
              "<IPython.core.display.SVG object>"
            ],
            "image/svg+xml": "<svg xmlns=\"http://www.w3.org/2000/svg\" xmlns:xlink=\"http://www.w3.org/1999/xlink\" width=\"313pt\" height=\"174pt\" viewBox=\"0.00 0.00 312.80 173.60\">\n<g id=\"graph0\" class=\"graph\" transform=\"scale(1 1) rotate(0) translate(4 169.6)\">\n<title>Arbol</title>\n<polygon fill=\"white\" stroke=\"transparent\" points=\"-4,4 -4,-169.6 308.8,-169.6 308.8,4 -4,4\"/>\n<!-- node0 -->\n<g id=\"node1\" class=\"node\">\n<title>node0</title>\n<polygon fill=\"none\" stroke=\"black\" points=\"36,-79.2 0,-79.2 0,-43.2 36,-43.2 36,-79.2\"/>\n<text text-anchor=\"middle\" x=\"18\" y=\"-57.5\" font-family=\"Times,serif\" font-size=\"14.00\">5</text>\n</g>\n<!-- node2 -->\n<g id=\"node2\" class=\"node\">\n<title>node2</title>\n<ellipse fill=\"none\" stroke=\"black\" cx=\"51.6\" cy=\"-104.4\" rx=\"18\" ry=\"18\"/>\n<text text-anchor=\"middle\" x=\"51.6\" y=\"-100.7\" font-family=\"Times,serif\" font-size=\"14.00\">+</text>\n</g>\n<!-- node2&#45;&#45;node0 -->\n<g id=\"edge2\" class=\"edge\">\n<title>node2--node0</title>\n<path fill=\"none\" stroke=\"black\" d=\"M40.22,-89.77C37.64,-86.45 34.85,-82.87 32.16,-79.41\"/>\n</g>\n<!-- node1 -->\n<g id=\"node3\" class=\"node\">\n<title>node1</title>\n<polygon fill=\"none\" stroke=\"black\" points=\"103.2,-79.2 67.2,-79.2 67.2,-43.2 103.2,-43.2 103.2,-79.2\"/>\n<text text-anchor=\"middle\" x=\"85.2\" y=\"-57.5\" font-family=\"Times,serif\" font-size=\"14.00\">2</text>\n</g>\n<!-- node2&#45;&#45;node1 -->\n<g id=\"edge3\" class=\"edge\">\n<title>node2--node1</title>\n<path fill=\"none\" stroke=\"black\" d=\"M62.98,-89.77C65.56,-86.45 68.35,-82.87 71.04,-79.41\"/>\n</g>\n<!-- node8 -->\n<g id=\"node4\" class=\"node\">\n<title>node8</title>\n<ellipse fill=\"none\" stroke=\"black\" cx=\"118.8\" cy=\"-147.6\" rx=\"18\" ry=\"18\"/>\n<text text-anchor=\"middle\" x=\"118.8\" y=\"-143.9\" font-family=\"Times,serif\" font-size=\"14.00\">*</text>\n</g>\n<!-- node8&#45;&#45;node2 -->\n<g id=\"edge1\" class=\"edge\">\n<title>node8--node2</title>\n<path fill=\"none\" stroke=\"black\" d=\"M103.55,-137.8C92.55,-130.73 77.77,-121.22 66.79,-114.16\"/>\n</g>\n<!-- node7 -->\n<g id=\"node6\" class=\"node\">\n<title>node7</title>\n<ellipse fill=\"none\" stroke=\"black\" cx=\"186\" cy=\"-104.4\" rx=\"18\" ry=\"18\"/>\n<text text-anchor=\"middle\" x=\"186\" y=\"-100.7\" font-family=\"Times,serif\" font-size=\"14.00\">-</text>\n</g>\n<!-- node8&#45;&#45;node7 -->\n<g id=\"edge4\" class=\"edge\">\n<title>node8--node7</title>\n<path fill=\"none\" stroke=\"black\" d=\"M134.05,-137.8C145.05,-130.73 159.83,-121.22 170.81,-114.16\"/>\n</g>\n<!-- node3 -->\n<g id=\"node5\" class=\"node\">\n<title>node3</title>\n<polygon fill=\"none\" stroke=\"black\" points=\"170.4,-79.2 134.4,-79.2 134.4,-43.2 170.4,-43.2 170.4,-79.2\"/>\n<text text-anchor=\"middle\" x=\"152.4\" y=\"-57.5\" font-family=\"Times,serif\" font-size=\"14.00\">8</text>\n</g>\n<!-- node7&#45;&#45;node3 -->\n<g id=\"edge5\" class=\"edge\">\n<title>node7--node3</title>\n<path fill=\"none\" stroke=\"black\" d=\"M174.62,-89.77C172.04,-86.45 169.25,-82.87 166.56,-79.41\"/>\n</g>\n<!-- node6 -->\n<g id=\"node8\" class=\"node\">\n<title>node6</title>\n<ellipse fill=\"none\" stroke=\"black\" cx=\"253.2\" cy=\"-61.2\" rx=\"18\" ry=\"18\"/>\n<text text-anchor=\"middle\" x=\"253.2\" y=\"-57.5\" font-family=\"Times,serif\" font-size=\"14.00\">/</text>\n</g>\n<!-- node7&#45;&#45;node6 -->\n<g id=\"edge6\" class=\"edge\">\n<title>node7--node6</title>\n<path fill=\"none\" stroke=\"black\" d=\"M201.25,-94.6C212.25,-87.53 227.03,-78.02 238.01,-70.96\"/>\n</g>\n<!-- node4 -->\n<g id=\"node7\" class=\"node\">\n<title>node4</title>\n<polygon fill=\"none\" stroke=\"black\" points=\"237.6,-36 201.6,-36 201.6,0 237.6,0 237.6,-36\"/>\n<text text-anchor=\"middle\" x=\"219.6\" y=\"-14.3\" font-family=\"Times,serif\" font-size=\"14.00\">9</text>\n</g>\n<!-- node6&#45;&#45;node4 -->\n<g id=\"edge7\" class=\"edge\">\n<title>node6--node4</title>\n<path fill=\"none\" stroke=\"black\" d=\"M241.82,-46.57C239.24,-43.25 236.45,-39.67 233.76,-36.21\"/>\n</g>\n<!-- node5 -->\n<g id=\"node9\" class=\"node\">\n<title>node5</title>\n<polygon fill=\"none\" stroke=\"black\" points=\"304.8,-36 268.8,-36 268.8,0 304.8,0 304.8,-36\"/>\n<text text-anchor=\"middle\" x=\"286.8\" y=\"-14.3\" font-family=\"Times,serif\" font-size=\"14.00\">3</text>\n</g>\n<!-- node6&#45;&#45;node5 -->\n<g id=\"edge8\" class=\"edge\">\n<title>node6--node5</title>\n<path fill=\"none\" stroke=\"black\" d=\"M264.58,-46.57C267.16,-43.25 269.95,-39.67 272.64,-36.21\"/>\n</g>\n</g>\n</svg>"
          },
          "metadata": {}
        },
        {
          "output_type": "stream",
          "name": "stdout",
          "text": [
            "Resultado: "
          ]
        },
        {
          "output_type": "execute_result",
          "data": {
            "text/plain": [
              "35"
            ]
          },
          "metadata": {},
          "execution_count": 3
        }
      ],
      "source": [
        "formula= Arbol(\n",
        "            Nodoi(\n",
        "                Nodoi(Nodoe(5),\"+\",Nodoe(2)),\n",
        "                \"*\",\n",
        "                Nodoi(\n",
        "                    Nodoe(8),\n",
        "                    \"-\",\n",
        "                    Nodoi(Nodoe(9),\"/\",Nodoe(3))\n",
        "                )\n",
        "            )\n",
        "        )\n",
        "formula.dibujar()\n",
        "formula.evaluar()"
      ]
    }
  ]
}